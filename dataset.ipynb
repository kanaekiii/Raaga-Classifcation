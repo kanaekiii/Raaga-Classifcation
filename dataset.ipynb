{
 "cells": [
  {
   "cell_type": "code",
   "execution_count": 1,
   "metadata": {},
   "outputs": [
    {
     "name": "stderr",
     "output_type": "stream",
     "text": [
      "/tmp/ipykernel_29786/3339993748.py:1: DeprecationWarning: \n",
      "Pyarrow will become a required dependency of pandas in the next major release of pandas (pandas 3.0),\n",
      "(to allow more performant data types, such as the Arrow string type, and better interoperability with other libraries)\n",
      "but was not found to be installed on your system.\n",
      "If this would cause problems for you,\n",
      "please provide us feedback at https://github.com/pandas-dev/pandas/issues/54466\n",
      "        \n",
      "  import pandas as pd\n"
     ]
    }
   ],
   "source": [
    "import pandas as pd\n",
    "import numpy as np\n",
    "import matplotlib.pyplot as plt\n",
    "from sklearn.model_selection import train_test_split\n",
    "from sklearn.preprocessing import LabelEncoder, StandardScaler, MinMaxScaler\n",
    "import librosa"
   ]
  },
  {
   "cell_type": "code",
   "execution_count": 2,
   "metadata": {},
   "outputs": [
    {
     "data": {
      "text/html": [
       "<div>\n",
       "<style scoped>\n",
       "    .dataframe tbody tr th:only-of-type {\n",
       "        vertical-align: middle;\n",
       "    }\n",
       "\n",
       "    .dataframe tbody tr th {\n",
       "        vertical-align: top;\n",
       "    }\n",
       "\n",
       "    .dataframe thead th {\n",
       "        text-align: right;\n",
       "    }\n",
       "</style>\n",
       "<table border=\"1\" class=\"dataframe\">\n",
       "  <thead>\n",
       "    <tr style=\"text-align: right;\">\n",
       "      <th></th>\n",
       "      <th>Unnamed: 0.1</th>\n",
       "      <th>Unnamed: 0</th>\n",
       "      <th>filepath</th>\n",
       "      <th>mbid</th>\n",
       "      <th>raagas</th>\n",
       "      <th>pred_raagas</th>\n",
       "    </tr>\n",
       "  </thead>\n",
       "  <tbody>\n",
       "    <tr>\n",
       "      <th>0</th>\n",
       "      <td>0</td>\n",
       "      <td>13</td>\n",
       "      <td>Ashwath Narayanan at Arkay by Ashwath Narayana...</td>\n",
       "      <td>ffe5da02-8a71-4933-b414-62ca298dc777</td>\n",
       "      <td>purna chandrika</td>\n",
       "      <td>abhogi</td>\n",
       "    </tr>\n",
       "    <tr>\n",
       "      <th>1</th>\n",
       "      <td>1</td>\n",
       "      <td>14</td>\n",
       "      <td>Ashwath Narayanan at Arkay by Ashwath Narayana...</td>\n",
       "      <td>a724bc1d-0eaa-44d1-ae2a-401c6ae62865</td>\n",
       "      <td>surati</td>\n",
       "      <td>abhogi</td>\n",
       "    </tr>\n",
       "    <tr>\n",
       "      <th>2</th>\n",
       "      <td>2</td>\n",
       "      <td>15</td>\n",
       "      <td>Ashwath Narayanan at Arkay by Ashwath Narayana...</td>\n",
       "      <td>455c858a-da98-4094-a41d-41d0154037f2</td>\n",
       "      <td>shuddha saveri</td>\n",
       "      <td>abhogi</td>\n",
       "    </tr>\n",
       "    <tr>\n",
       "      <th>3</th>\n",
       "      <td>3</td>\n",
       "      <td>16</td>\n",
       "      <td>Ashwath Narayanan at Arkay by Ashwath Narayana...</td>\n",
       "      <td>662dbd9a-6858-4899-9369-8079c6c22935</td>\n",
       "      <td>mohanam</td>\n",
       "      <td>abhogi</td>\n",
       "    </tr>\n",
       "    <tr>\n",
       "      <th>4</th>\n",
       "      <td>4</td>\n",
       "      <td>17</td>\n",
       "      <td>Ashwath Narayanan at Arkay by Ashwath Narayana...</td>\n",
       "      <td>ab8fff58-8359-4af8-bc2a-6d623d4ac48b</td>\n",
       "      <td>thodi</td>\n",
       "      <td>abhogi</td>\n",
       "    </tr>\n",
       "    <tr>\n",
       "      <th>...</th>\n",
       "      <td>...</td>\n",
       "      <td>...</td>\n",
       "      <td>...</td>\n",
       "      <td>...</td>\n",
       "      <td>...</td>\n",
       "      <td>...</td>\n",
       "    </tr>\n",
       "    <tr>\n",
       "      <th>179</th>\n",
       "      <td>179</td>\n",
       "      <td>242</td>\n",
       "      <td>Chaitra Sairam at Arkay by Chaitra Sairam/Mama...</td>\n",
       "      <td>1c474824-d8a9-43c8-8c2d-6b59e945e3a6</td>\n",
       "      <td>manirangu</td>\n",
       "      <td>abhogi</td>\n",
       "    </tr>\n",
       "    <tr>\n",
       "      <th>180</th>\n",
       "      <td>180</td>\n",
       "      <td>243</td>\n",
       "      <td>Chaitra Sairam at Arkay by Chaitra Sairam/Kama...</td>\n",
       "      <td>a8ecff2f-f2ce-406f-a7a9-a5976b99521c</td>\n",
       "      <td>ananda bhairavi</td>\n",
       "      <td>bhairavi</td>\n",
       "    </tr>\n",
       "    <tr>\n",
       "      <th>181</th>\n",
       "      <td>181</td>\n",
       "      <td>244</td>\n",
       "      <td>Chaitra Sairam at Arkay by Chaitra Sairam/Gova...</td>\n",
       "      <td>93f38e28-f411-4b06-9494-91232649a635</td>\n",
       "      <td>hindolam</td>\n",
       "      <td>abhogi</td>\n",
       "    </tr>\n",
       "    <tr>\n",
       "      <th>182</th>\n",
       "      <td>182</td>\n",
       "      <td>246</td>\n",
       "      <td>Chaitra Sairam at Arkay by Chaitra Sairam/Anan...</td>\n",
       "      <td>833331e9-7907-4e28-b60d-8c8186931dfd</td>\n",
       "      <td>amritavarshini</td>\n",
       "      <td>abhogi</td>\n",
       "    </tr>\n",
       "    <tr>\n",
       "      <th>183</th>\n",
       "      <td>183</td>\n",
       "      <td>247</td>\n",
       "      <td>Chaitra Sairam at Arkay by Chaitra Sairam/Rakt...</td>\n",
       "      <td>0a1c2ae7-e933-458d-afac-fa081338d5de</td>\n",
       "      <td>mohanam</td>\n",
       "      <td>abhogi</td>\n",
       "    </tr>\n",
       "  </tbody>\n",
       "</table>\n",
       "<p>184 rows × 6 columns</p>\n",
       "</div>"
      ],
      "text/plain": [
       "     Unnamed: 0.1  Unnamed: 0  \\\n",
       "0               0          13   \n",
       "1               1          14   \n",
       "2               2          15   \n",
       "3               3          16   \n",
       "4               4          17   \n",
       "..            ...         ...   \n",
       "179           179         242   \n",
       "180           180         243   \n",
       "181           181         244   \n",
       "182           182         246   \n",
       "183           183         247   \n",
       "\n",
       "                                              filepath  \\\n",
       "0    Ashwath Narayanan at Arkay by Ashwath Narayana...   \n",
       "1    Ashwath Narayanan at Arkay by Ashwath Narayana...   \n",
       "2    Ashwath Narayanan at Arkay by Ashwath Narayana...   \n",
       "3    Ashwath Narayanan at Arkay by Ashwath Narayana...   \n",
       "4    Ashwath Narayanan at Arkay by Ashwath Narayana...   \n",
       "..                                                 ...   \n",
       "179  Chaitra Sairam at Arkay by Chaitra Sairam/Mama...   \n",
       "180  Chaitra Sairam at Arkay by Chaitra Sairam/Kama...   \n",
       "181  Chaitra Sairam at Arkay by Chaitra Sairam/Gova...   \n",
       "182  Chaitra Sairam at Arkay by Chaitra Sairam/Anan...   \n",
       "183  Chaitra Sairam at Arkay by Chaitra Sairam/Rakt...   \n",
       "\n",
       "                                     mbid           raagas pred_raagas  \n",
       "0    ffe5da02-8a71-4933-b414-62ca298dc777  purna chandrika      abhogi  \n",
       "1    a724bc1d-0eaa-44d1-ae2a-401c6ae62865           surati      abhogi  \n",
       "2    455c858a-da98-4094-a41d-41d0154037f2   shuddha saveri      abhogi  \n",
       "3    662dbd9a-6858-4899-9369-8079c6c22935          mohanam      abhogi  \n",
       "4    ab8fff58-8359-4af8-bc2a-6d623d4ac48b            thodi      abhogi  \n",
       "..                                    ...              ...         ...  \n",
       "179  1c474824-d8a9-43c8-8c2d-6b59e945e3a6        manirangu      abhogi  \n",
       "180  a8ecff2f-f2ce-406f-a7a9-a5976b99521c  ananda bhairavi    bhairavi  \n",
       "181  93f38e28-f411-4b06-9494-91232649a635         hindolam      abhogi  \n",
       "182  833331e9-7907-4e28-b60d-8c8186931dfd   amritavarshini      abhogi  \n",
       "183  0a1c2ae7-e933-458d-afac-fa081338d5de          mohanam      abhogi  \n",
       "\n",
       "[184 rows x 6 columns]"
      ]
     },
     "execution_count": 2,
     "metadata": {},
     "output_type": "execute_result"
    }
   ],
   "source": [
    "fp = pd.read_csv(\"file_path_raaga.csv\")\n",
    "fp"
   ]
  },
  {
   "cell_type": "code",
   "execution_count": 3,
   "metadata": {},
   "outputs": [],
   "source": [
    "req_ragas = ['Purvikalyani', 'abhogi', 'ananda bhairavi', 'atana', 'begada', 'behag', 'bhairavi', 'bilahari', 'darbar', 'hamsadhvani', 'hindolam', 'jaganmohini', 'jaunpuri', 'mayamalava gaula', 'ragamalika', 'shanmukhapriya', 'varali', 'vasanta', 'yadukula kambhoji', 'yamuna kalyani']"
   ]
  },
  {
   "cell_type": "code",
   "execution_count": 4,
   "metadata": {},
   "outputs": [],
   "source": [
    "fp = fp[fp['raagas'].isin(req_ragas)]"
   ]
  },
  {
   "cell_type": "code",
   "execution_count": 5,
   "metadata": {},
   "outputs": [
    {
     "data": {
      "text/html": [
       "<div>\n",
       "<style scoped>\n",
       "    .dataframe tbody tr th:only-of-type {\n",
       "        vertical-align: middle;\n",
       "    }\n",
       "\n",
       "    .dataframe tbody tr th {\n",
       "        vertical-align: top;\n",
       "    }\n",
       "\n",
       "    .dataframe thead th {\n",
       "        text-align: right;\n",
       "    }\n",
       "</style>\n",
       "<table border=\"1\" class=\"dataframe\">\n",
       "  <thead>\n",
       "    <tr style=\"text-align: right;\">\n",
       "      <th></th>\n",
       "      <th>Unnamed: 0.1</th>\n",
       "      <th>Unnamed: 0</th>\n",
       "      <th>filepath</th>\n",
       "      <th>mbid</th>\n",
       "      <th>raagas</th>\n",
       "      <th>pred_raagas</th>\n",
       "    </tr>\n",
       "  </thead>\n",
       "  <tbody>\n",
       "    <tr>\n",
       "      <th>8</th>\n",
       "      <td>8</td>\n",
       "      <td>21</td>\n",
       "      <td>Ashwath Narayanan at Arkay by Ashwath Narayana...</td>\n",
       "      <td>373d0719-1251-40be-983d-5a12dec2d522</td>\n",
       "      <td>hamsadhvani</td>\n",
       "      <td>abhogi</td>\n",
       "    </tr>\n",
       "    <tr>\n",
       "      <th>11</th>\n",
       "      <td>11</td>\n",
       "      <td>24</td>\n",
       "      <td>Vignesh Ishwar at Nada Inbam by Vignesh Ishwar...</td>\n",
       "      <td>c33c722a-d034-40b2-be2a-188f830ee976</td>\n",
       "      <td>abhogi</td>\n",
       "      <td>abhogi</td>\n",
       "    </tr>\n",
       "    <tr>\n",
       "      <th>12</th>\n",
       "      <td>12</td>\n",
       "      <td>25</td>\n",
       "      <td>Vignesh Ishwar at Nada Inbam by Vignesh Ishwar...</td>\n",
       "      <td>c58ef05a-7a00-4ad9-8d11-a88e1a2772a5</td>\n",
       "      <td>ragamalika</td>\n",
       "      <td>abhogi</td>\n",
       "    </tr>\n",
       "    <tr>\n",
       "      <th>13</th>\n",
       "      <td>13</td>\n",
       "      <td>26</td>\n",
       "      <td>Vignesh Ishwar at Nada Inbam by Vignesh Ishwar...</td>\n",
       "      <td>561a053f-0f22-4415-bb79-5ec19574f2fc</td>\n",
       "      <td>begada</td>\n",
       "      <td>abhogi</td>\n",
       "    </tr>\n",
       "    <tr>\n",
       "      <th>14</th>\n",
       "      <td>14</td>\n",
       "      <td>27</td>\n",
       "      <td>Vignesh Ishwar at Nada Inbam by Vignesh Ishwar...</td>\n",
       "      <td>5578d1d1-838d-4b26-848a-2cd599163da8</td>\n",
       "      <td>behag</td>\n",
       "      <td>atana</td>\n",
       "    </tr>\n",
       "    <tr>\n",
       "      <th>15</th>\n",
       "      <td>15</td>\n",
       "      <td>28</td>\n",
       "      <td>Vignesh Ishwar at Nada Inbam by Vignesh Ishwar...</td>\n",
       "      <td>34edbdf2-4505-47af-b1cd-5d09aa97d49d</td>\n",
       "      <td>bhairavi</td>\n",
       "      <td>abhogi</td>\n",
       "    </tr>\n",
       "    <tr>\n",
       "      <th>18</th>\n",
       "      <td>18</td>\n",
       "      <td>31</td>\n",
       "      <td>Vignesh Ishwar at Nada Inbam by Vignesh Ishwar...</td>\n",
       "      <td>14d27ddd-66f3-4687-b3c6-3cd5ebdf4b6f</td>\n",
       "      <td>varali</td>\n",
       "      <td>abhogi</td>\n",
       "    </tr>\n",
       "    <tr>\n",
       "      <th>27</th>\n",
       "      <td>27</td>\n",
       "      <td>40</td>\n",
       "      <td>Live at Kamarajar Hall by Sanjay Subrahmanyan/...</td>\n",
       "      <td>32806112-2104-4df2-972e-a527be20e82a</td>\n",
       "      <td>bhairavi</td>\n",
       "      <td>abhogi</td>\n",
       "    </tr>\n",
       "    <tr>\n",
       "      <th>30</th>\n",
       "      <td>30</td>\n",
       "      <td>43</td>\n",
       "      <td>Live at Kamarajar Hall by Sanjay Subrahmanyan/...</td>\n",
       "      <td>e5022fc3-f0ba-40a2-9706-2b8fdbe484b8</td>\n",
       "      <td>Purvikalyani</td>\n",
       "      <td>abhogi</td>\n",
       "    </tr>\n",
       "    <tr>\n",
       "      <th>32</th>\n",
       "      <td>32</td>\n",
       "      <td>45</td>\n",
       "      <td>V Shankarnarayanan at Arkay by V. Shankaranara...</td>\n",
       "      <td>c0cc9472-e4d0-4234-9e46-16ecdde8d9ce</td>\n",
       "      <td>ragamalika</td>\n",
       "      <td>atana</td>\n",
       "    </tr>\n",
       "    <tr>\n",
       "      <th>48</th>\n",
       "      <td>48</td>\n",
       "      <td>61</td>\n",
       "      <td>Akkarai Sisters at Arkay by Akkarai Sisters/Ge...</td>\n",
       "      <td>3956ef1f-2cb0-4e4b-becb-533a63d18017</td>\n",
       "      <td>ragamalika</td>\n",
       "      <td>abhogi</td>\n",
       "    </tr>\n",
       "    <tr>\n",
       "      <th>49</th>\n",
       "      <td>49</td>\n",
       "      <td>62</td>\n",
       "      <td>Akkarai Sisters at Arkay by Akkarai Sisters/Si...</td>\n",
       "      <td>16a3263f-31dc-40da-839b-f5955b77c0b6</td>\n",
       "      <td>shanmukhapriya</td>\n",
       "      <td>bhairavi</td>\n",
       "    </tr>\n",
       "    <tr>\n",
       "      <th>53</th>\n",
       "      <td>53</td>\n",
       "      <td>66</td>\n",
       "      <td>Dr S Sundar at Arkay by S Sundar/Nannu Brova N...</td>\n",
       "      <td>dfdde5cd-7950-41fe-8f1e-71bb528994ec</td>\n",
       "      <td>abhogi</td>\n",
       "      <td>bhairavi</td>\n",
       "    </tr>\n",
       "    <tr>\n",
       "      <th>54</th>\n",
       "      <td>54</td>\n",
       "      <td>67</td>\n",
       "      <td>Dr S Sundar at Arkay by S Sundar/Nera Nammiti/...</td>\n",
       "      <td>22bd5f33-500f-4479-a66a-290718f68498</td>\n",
       "      <td>ragamalika</td>\n",
       "      <td>abhogi</td>\n",
       "    </tr>\n",
       "    <tr>\n",
       "      <th>58</th>\n",
       "      <td>58</td>\n",
       "      <td>72</td>\n",
       "      <td>Dr S Sundar at Arkay by S Sundar/Vanajaksha Ni...</td>\n",
       "      <td>01b346c5-2f9e-4087-b56b-893e5688b43a</td>\n",
       "      <td>behag</td>\n",
       "      <td>abhogi</td>\n",
       "    </tr>\n",
       "    <tr>\n",
       "      <th>66</th>\n",
       "      <td>66</td>\n",
       "      <td>81</td>\n",
       "      <td>Vasundara Rajagopal at Arkay by Vasundara Raja...</td>\n",
       "      <td>196062b4-21b5-45b6-942c-b20aa560f8ce</td>\n",
       "      <td>jaunpuri</td>\n",
       "      <td>abhogi</td>\n",
       "    </tr>\n",
       "    <tr>\n",
       "      <th>74</th>\n",
       "      <td>74</td>\n",
       "      <td>89</td>\n",
       "      <td>Kanakadurga Venkatesh at Arkay by Kanakadurga ...</td>\n",
       "      <td>ae157796-b8d5-4baf-ab2e-d200833bf110</td>\n",
       "      <td>begada</td>\n",
       "      <td>abhogi</td>\n",
       "    </tr>\n",
       "    <tr>\n",
       "      <th>79</th>\n",
       "      <td>79</td>\n",
       "      <td>94</td>\n",
       "      <td>Mahati at Arkay by Mahati/Chinnanchiru Kiliye/...</td>\n",
       "      <td>8b026b2c-f627-4689-b4c9-7e1c14c2ca02</td>\n",
       "      <td>ragamalika</td>\n",
       "      <td>bhairavi</td>\n",
       "    </tr>\n",
       "    <tr>\n",
       "      <th>83</th>\n",
       "      <td>83</td>\n",
       "      <td>99</td>\n",
       "      <td>Mahati at Arkay by Mahati/Vandu Ketpaar Illayo...</td>\n",
       "      <td>db598906-31ae-4e01-95eb-b90090abc2c1</td>\n",
       "      <td>ragamalika</td>\n",
       "      <td>bhairavi</td>\n",
       "    </tr>\n",
       "    <tr>\n",
       "      <th>84</th>\n",
       "      <td>84</td>\n",
       "      <td>100</td>\n",
       "      <td>Mahati at Arkay by Mahati/Ragam Tanam Pallavi/...</td>\n",
       "      <td>66a741cb-bdfb-41c7-8705-298e12d8e990</td>\n",
       "      <td>shanmukhapriya</td>\n",
       "      <td>atana</td>\n",
       "    </tr>\n",
       "    <tr>\n",
       "      <th>88</th>\n",
       "      <td>88</td>\n",
       "      <td>104</td>\n",
       "      <td>Sumitra Vasudev at Arkay by Sumithra Vasudev/A...</td>\n",
       "      <td>d001e6bf-625c-47fc-beb9-2a1fa72a8cab</td>\n",
       "      <td>ragamalika</td>\n",
       "      <td>abhogi</td>\n",
       "    </tr>\n",
       "    <tr>\n",
       "      <th>97</th>\n",
       "      <td>97</td>\n",
       "      <td>113</td>\n",
       "      <td>Sumitra Vasudev at Arkay by Sumithra Vasudev/S...</td>\n",
       "      <td>08cbf900-43af-404a-b40c-c64a99f43518</td>\n",
       "      <td>jaganmohini</td>\n",
       "      <td>begada</td>\n",
       "    </tr>\n",
       "    <tr>\n",
       "      <th>102</th>\n",
       "      <td>102</td>\n",
       "      <td>123</td>\n",
       "      <td>Live at Vani Mahal by Sanjay Subrahmanyan/Sara...</td>\n",
       "      <td>492da8b2-c67b-451e-96e9-6956870a0049</td>\n",
       "      <td>shanmukhapriya</td>\n",
       "      <td>abhogi</td>\n",
       "    </tr>\n",
       "    <tr>\n",
       "      <th>103</th>\n",
       "      <td>103</td>\n",
       "      <td>124</td>\n",
       "      <td>Live at Vani Mahal by Sanjay Subrahmanyan/Karu...</td>\n",
       "      <td>c872989e-4edd-4509-912b-f228198245f7</td>\n",
       "      <td>ragamalika</td>\n",
       "      <td>abhogi</td>\n",
       "    </tr>\n",
       "    <tr>\n",
       "      <th>107</th>\n",
       "      <td>107</td>\n",
       "      <td>128</td>\n",
       "      <td>Live at Vani Mahal by Sanjay Subrahmanyan/Sri ...</td>\n",
       "      <td>7afd0d40-c385-4762-82e3-74e14491c615</td>\n",
       "      <td>bhairavi</td>\n",
       "      <td>abhogi</td>\n",
       "    </tr>\n",
       "    <tr>\n",
       "      <th>108</th>\n",
       "      <td>108</td>\n",
       "      <td>129</td>\n",
       "      <td>Live at Vani Mahal by Sanjay Subrahmanyan/Raga...</td>\n",
       "      <td>3fb546e4-a108-4b86-a368-02e3a5b9e96d</td>\n",
       "      <td>shanmukhapriya</td>\n",
       "      <td>abhogi</td>\n",
       "    </tr>\n",
       "    <tr>\n",
       "      <th>112</th>\n",
       "      <td>112</td>\n",
       "      <td>134</td>\n",
       "      <td>Cherthala Ranganatha Sharma at Arkay by Cherth...</td>\n",
       "      <td>af4fec6b-6689-429e-8f65-b9ca958fb543</td>\n",
       "      <td>behag</td>\n",
       "      <td>abhogi</td>\n",
       "    </tr>\n",
       "    <tr>\n",
       "      <th>127</th>\n",
       "      <td>127</td>\n",
       "      <td>161</td>\n",
       "      <td>Modhumudi Sudhakar at Arkay by Modhumudi Sudha...</td>\n",
       "      <td>a8c9b0e3-3656-42da-9527-04dc19b65dc7</td>\n",
       "      <td>jaganmohini</td>\n",
       "      <td>bhairavi</td>\n",
       "    </tr>\n",
       "    <tr>\n",
       "      <th>130</th>\n",
       "      <td>130</td>\n",
       "      <td>173</td>\n",
       "      <td>Sanjay at Sastri Hall by Sanjay Subrahmanyan/I...</td>\n",
       "      <td>574c2aec-15da-4cd7-95db-b2eb339623ad</td>\n",
       "      <td>behag</td>\n",
       "      <td>abhogi</td>\n",
       "    </tr>\n",
       "    <tr>\n",
       "      <th>131</th>\n",
       "      <td>131</td>\n",
       "      <td>174</td>\n",
       "      <td>Sanjay at Sastri Hall by Sanjay Subrahmanyan/N...</td>\n",
       "      <td>fa539372-1c38-41a9-8790-91354ece9135</td>\n",
       "      <td>begada</td>\n",
       "      <td>abhogi</td>\n",
       "    </tr>\n",
       "    <tr>\n",
       "      <th>134</th>\n",
       "      <td>134</td>\n",
       "      <td>177</td>\n",
       "      <td>Sanjay at Sastri Hall by Sanjay Subrahmanyan/O...</td>\n",
       "      <td>06e944ea-ef9d-4cfc-abc7-daf20fe2f872</td>\n",
       "      <td>behag</td>\n",
       "      <td>abhogi</td>\n",
       "    </tr>\n",
       "    <tr>\n",
       "      <th>150</th>\n",
       "      <td>150</td>\n",
       "      <td>195</td>\n",
       "      <td>Kuldeep Pai at Arkay by Kuldeep Pai/Krishna Ne...</td>\n",
       "      <td>7dae71c1-c921-424d-88d2-0547d7a0b377</td>\n",
       "      <td>yamuna kalyani</td>\n",
       "      <td>abhogi</td>\n",
       "    </tr>\n",
       "    <tr>\n",
       "      <th>153</th>\n",
       "      <td>153</td>\n",
       "      <td>215</td>\n",
       "      <td>Srividya Janakiraman at Arkay by Srividya Jana...</td>\n",
       "      <td>9c7784e0-b808-466e-bd43-582b8ab4f8fb</td>\n",
       "      <td>bhairavi</td>\n",
       "      <td>abhogi</td>\n",
       "    </tr>\n",
       "    <tr>\n",
       "      <th>158</th>\n",
       "      <td>158</td>\n",
       "      <td>220</td>\n",
       "      <td>Srividya Janakiraman at Arkay by Srividya Jana...</td>\n",
       "      <td>5c09b1ea-b2f7-48fd-a235-500ba836b135</td>\n",
       "      <td>jaunpuri</td>\n",
       "      <td>bhairavi</td>\n",
       "    </tr>\n",
       "    <tr>\n",
       "      <th>162</th>\n",
       "      <td>162</td>\n",
       "      <td>224</td>\n",
       "      <td>Rithvik Raja at Arkay by Rithvik Raja/Sapasyat...</td>\n",
       "      <td>e3c44bc6-3c57-4d23-b710-66cd73c36b85</td>\n",
       "      <td>jaunpuri</td>\n",
       "      <td>abhogi</td>\n",
       "    </tr>\n",
       "    <tr>\n",
       "      <th>168</th>\n",
       "      <td>168</td>\n",
       "      <td>230</td>\n",
       "      <td>Rithvik Raja at Arkay by Rithvik Raja/Chintaya...</td>\n",
       "      <td>8ea50416-583b-4a7f-891c-dc21b1a3c2c9</td>\n",
       "      <td>bhairavi</td>\n",
       "      <td>abhogi</td>\n",
       "    </tr>\n",
       "    <tr>\n",
       "      <th>172</th>\n",
       "      <td>172</td>\n",
       "      <td>234</td>\n",
       "      <td>KP Nandini at Arkay by KP Nandini/Seethamma/Se...</td>\n",
       "      <td>559b19c7-2d30-47db-8aab-6e4448d867fb</td>\n",
       "      <td>vasanta</td>\n",
       "      <td>abhogi</td>\n",
       "    </tr>\n",
       "    <tr>\n",
       "      <th>180</th>\n",
       "      <td>180</td>\n",
       "      <td>243</td>\n",
       "      <td>Chaitra Sairam at Arkay by Chaitra Sairam/Kama...</td>\n",
       "      <td>a8ecff2f-f2ce-406f-a7a9-a5976b99521c</td>\n",
       "      <td>ananda bhairavi</td>\n",
       "      <td>bhairavi</td>\n",
       "    </tr>\n",
       "    <tr>\n",
       "      <th>181</th>\n",
       "      <td>181</td>\n",
       "      <td>244</td>\n",
       "      <td>Chaitra Sairam at Arkay by Chaitra Sairam/Gova...</td>\n",
       "      <td>93f38e28-f411-4b06-9494-91232649a635</td>\n",
       "      <td>hindolam</td>\n",
       "      <td>abhogi</td>\n",
       "    </tr>\n",
       "  </tbody>\n",
       "</table>\n",
       "</div>"
      ],
      "text/plain": [
       "     Unnamed: 0.1  Unnamed: 0  \\\n",
       "8               8          21   \n",
       "11             11          24   \n",
       "12             12          25   \n",
       "13             13          26   \n",
       "14             14          27   \n",
       "15             15          28   \n",
       "18             18          31   \n",
       "27             27          40   \n",
       "30             30          43   \n",
       "32             32          45   \n",
       "48             48          61   \n",
       "49             49          62   \n",
       "53             53          66   \n",
       "54             54          67   \n",
       "58             58          72   \n",
       "66             66          81   \n",
       "74             74          89   \n",
       "79             79          94   \n",
       "83             83          99   \n",
       "84             84         100   \n",
       "88             88         104   \n",
       "97             97         113   \n",
       "102           102         123   \n",
       "103           103         124   \n",
       "107           107         128   \n",
       "108           108         129   \n",
       "112           112         134   \n",
       "127           127         161   \n",
       "130           130         173   \n",
       "131           131         174   \n",
       "134           134         177   \n",
       "150           150         195   \n",
       "153           153         215   \n",
       "158           158         220   \n",
       "162           162         224   \n",
       "168           168         230   \n",
       "172           172         234   \n",
       "180           180         243   \n",
       "181           181         244   \n",
       "\n",
       "                                              filepath  \\\n",
       "8    Ashwath Narayanan at Arkay by Ashwath Narayana...   \n",
       "11   Vignesh Ishwar at Nada Inbam by Vignesh Ishwar...   \n",
       "12   Vignesh Ishwar at Nada Inbam by Vignesh Ishwar...   \n",
       "13   Vignesh Ishwar at Nada Inbam by Vignesh Ishwar...   \n",
       "14   Vignesh Ishwar at Nada Inbam by Vignesh Ishwar...   \n",
       "15   Vignesh Ishwar at Nada Inbam by Vignesh Ishwar...   \n",
       "18   Vignesh Ishwar at Nada Inbam by Vignesh Ishwar...   \n",
       "27   Live at Kamarajar Hall by Sanjay Subrahmanyan/...   \n",
       "30   Live at Kamarajar Hall by Sanjay Subrahmanyan/...   \n",
       "32   V Shankarnarayanan at Arkay by V. Shankaranara...   \n",
       "48   Akkarai Sisters at Arkay by Akkarai Sisters/Ge...   \n",
       "49   Akkarai Sisters at Arkay by Akkarai Sisters/Si...   \n",
       "53   Dr S Sundar at Arkay by S Sundar/Nannu Brova N...   \n",
       "54   Dr S Sundar at Arkay by S Sundar/Nera Nammiti/...   \n",
       "58   Dr S Sundar at Arkay by S Sundar/Vanajaksha Ni...   \n",
       "66   Vasundara Rajagopal at Arkay by Vasundara Raja...   \n",
       "74   Kanakadurga Venkatesh at Arkay by Kanakadurga ...   \n",
       "79   Mahati at Arkay by Mahati/Chinnanchiru Kiliye/...   \n",
       "83   Mahati at Arkay by Mahati/Vandu Ketpaar Illayo...   \n",
       "84   Mahati at Arkay by Mahati/Ragam Tanam Pallavi/...   \n",
       "88   Sumitra Vasudev at Arkay by Sumithra Vasudev/A...   \n",
       "97   Sumitra Vasudev at Arkay by Sumithra Vasudev/S...   \n",
       "102  Live at Vani Mahal by Sanjay Subrahmanyan/Sara...   \n",
       "103  Live at Vani Mahal by Sanjay Subrahmanyan/Karu...   \n",
       "107  Live at Vani Mahal by Sanjay Subrahmanyan/Sri ...   \n",
       "108  Live at Vani Mahal by Sanjay Subrahmanyan/Raga...   \n",
       "112  Cherthala Ranganatha Sharma at Arkay by Cherth...   \n",
       "127  Modhumudi Sudhakar at Arkay by Modhumudi Sudha...   \n",
       "130  Sanjay at Sastri Hall by Sanjay Subrahmanyan/I...   \n",
       "131  Sanjay at Sastri Hall by Sanjay Subrahmanyan/N...   \n",
       "134  Sanjay at Sastri Hall by Sanjay Subrahmanyan/O...   \n",
       "150  Kuldeep Pai at Arkay by Kuldeep Pai/Krishna Ne...   \n",
       "153  Srividya Janakiraman at Arkay by Srividya Jana...   \n",
       "158  Srividya Janakiraman at Arkay by Srividya Jana...   \n",
       "162  Rithvik Raja at Arkay by Rithvik Raja/Sapasyat...   \n",
       "168  Rithvik Raja at Arkay by Rithvik Raja/Chintaya...   \n",
       "172  KP Nandini at Arkay by KP Nandini/Seethamma/Se...   \n",
       "180  Chaitra Sairam at Arkay by Chaitra Sairam/Kama...   \n",
       "181  Chaitra Sairam at Arkay by Chaitra Sairam/Gova...   \n",
       "\n",
       "                                     mbid           raagas pred_raagas  \n",
       "8    373d0719-1251-40be-983d-5a12dec2d522      hamsadhvani      abhogi  \n",
       "11   c33c722a-d034-40b2-be2a-188f830ee976           abhogi      abhogi  \n",
       "12   c58ef05a-7a00-4ad9-8d11-a88e1a2772a5       ragamalika      abhogi  \n",
       "13   561a053f-0f22-4415-bb79-5ec19574f2fc           begada      abhogi  \n",
       "14   5578d1d1-838d-4b26-848a-2cd599163da8            behag       atana  \n",
       "15   34edbdf2-4505-47af-b1cd-5d09aa97d49d         bhairavi      abhogi  \n",
       "18   14d27ddd-66f3-4687-b3c6-3cd5ebdf4b6f           varali      abhogi  \n",
       "27   32806112-2104-4df2-972e-a527be20e82a         bhairavi      abhogi  \n",
       "30   e5022fc3-f0ba-40a2-9706-2b8fdbe484b8     Purvikalyani      abhogi  \n",
       "32   c0cc9472-e4d0-4234-9e46-16ecdde8d9ce       ragamalika       atana  \n",
       "48   3956ef1f-2cb0-4e4b-becb-533a63d18017       ragamalika      abhogi  \n",
       "49   16a3263f-31dc-40da-839b-f5955b77c0b6   shanmukhapriya    bhairavi  \n",
       "53   dfdde5cd-7950-41fe-8f1e-71bb528994ec           abhogi    bhairavi  \n",
       "54   22bd5f33-500f-4479-a66a-290718f68498       ragamalika      abhogi  \n",
       "58   01b346c5-2f9e-4087-b56b-893e5688b43a            behag      abhogi  \n",
       "66   196062b4-21b5-45b6-942c-b20aa560f8ce         jaunpuri      abhogi  \n",
       "74   ae157796-b8d5-4baf-ab2e-d200833bf110           begada      abhogi  \n",
       "79   8b026b2c-f627-4689-b4c9-7e1c14c2ca02       ragamalika    bhairavi  \n",
       "83   db598906-31ae-4e01-95eb-b90090abc2c1       ragamalika    bhairavi  \n",
       "84   66a741cb-bdfb-41c7-8705-298e12d8e990   shanmukhapriya       atana  \n",
       "88   d001e6bf-625c-47fc-beb9-2a1fa72a8cab       ragamalika      abhogi  \n",
       "97   08cbf900-43af-404a-b40c-c64a99f43518      jaganmohini      begada  \n",
       "102  492da8b2-c67b-451e-96e9-6956870a0049   shanmukhapriya      abhogi  \n",
       "103  c872989e-4edd-4509-912b-f228198245f7       ragamalika      abhogi  \n",
       "107  7afd0d40-c385-4762-82e3-74e14491c615         bhairavi      abhogi  \n",
       "108  3fb546e4-a108-4b86-a368-02e3a5b9e96d   shanmukhapriya      abhogi  \n",
       "112  af4fec6b-6689-429e-8f65-b9ca958fb543            behag      abhogi  \n",
       "127  a8c9b0e3-3656-42da-9527-04dc19b65dc7      jaganmohini    bhairavi  \n",
       "130  574c2aec-15da-4cd7-95db-b2eb339623ad            behag      abhogi  \n",
       "131  fa539372-1c38-41a9-8790-91354ece9135           begada      abhogi  \n",
       "134  06e944ea-ef9d-4cfc-abc7-daf20fe2f872            behag      abhogi  \n",
       "150  7dae71c1-c921-424d-88d2-0547d7a0b377   yamuna kalyani      abhogi  \n",
       "153  9c7784e0-b808-466e-bd43-582b8ab4f8fb         bhairavi      abhogi  \n",
       "158  5c09b1ea-b2f7-48fd-a235-500ba836b135         jaunpuri    bhairavi  \n",
       "162  e3c44bc6-3c57-4d23-b710-66cd73c36b85         jaunpuri      abhogi  \n",
       "168  8ea50416-583b-4a7f-891c-dc21b1a3c2c9         bhairavi      abhogi  \n",
       "172  559b19c7-2d30-47db-8aab-6e4448d867fb          vasanta      abhogi  \n",
       "180  a8ecff2f-f2ce-406f-a7a9-a5976b99521c  ananda bhairavi    bhairavi  \n",
       "181  93f38e28-f411-4b06-9494-91232649a635         hindolam      abhogi  "
      ]
     },
     "execution_count": 5,
     "metadata": {},
     "output_type": "execute_result"
    }
   ],
   "source": [
    "fp"
   ]
  },
  {
   "cell_type": "code",
   "execution_count": 6,
   "metadata": {},
   "outputs": [
    {
     "data": {
      "text/plain": [
       "raga\n",
       "Purvikalyani         240\n",
       "abhogi               240\n",
       "ananda bhairavi      240\n",
       "atana                200\n",
       "begada               240\n",
       "behag                240\n",
       "bhairavi             240\n",
       "bilahari             210\n",
       "darbar               150\n",
       "hamsadhvani          240\n",
       "hindolam             250\n",
       "jaganmohini          150\n",
       "jaunpuri             140\n",
       "mayamalava gaula     150\n",
       "ragamalika           150\n",
       "shanmukhapriya       160\n",
       "varali               150\n",
       "vasanta              150\n",
       "yadukula kambhoji    150\n",
       "yamuna kalyani       150\n",
       "dtype: int64"
      ]
     },
     "execution_count": 6,
     "metadata": {},
     "output_type": "execute_result"
    }
   ],
   "source": [
    "data=pd.read_csv('dataset-big.csv')\n",
    "# Dropping unneccesary columns\n",
    "data = data.drop(['filename'],axis=1)\n",
    "#Encoding the Labels\n",
    "raga_list = data.iloc[:, -1]\n",
    "# encoder = LabelEncoder()\n",
    "# y = encoder.fit_transform(raga_list)\n",
    "y = raga_list\n",
    "#Scaling the Feature columns\n",
    "scaler = MinMaxScaler()\n",
    "X = scaler.fit_transform(np.array(data.iloc[:, :-1], dtype = float))\n",
    "#Dividing data into training and Testing set\n",
    "X_train, X_test, Y_train, Y_test = train_test_split(X, y, test_size=0.2)\n",
    "data.groupby(\"raga\").size()"
   ]
  },
  {
   "cell_type": "code",
   "execution_count": 7,
   "metadata": {},
   "outputs": [
    {
     "name": "stdout",
     "output_type": "stream",
     "text": [
      "0                 abhogi\n",
      "1                 abhogi\n",
      "2                 abhogi\n",
      "3                 abhogi\n",
      "4                 abhogi\n",
      "              ...       \n",
      "3835    mayamalava gaula\n",
      "3836    mayamalava gaula\n",
      "3837    mayamalava gaula\n",
      "3838    mayamalava gaula\n",
      "3839    mayamalava gaula\n",
      "Name: raga, Length: 3840, dtype: object\n"
     ]
    }
   ],
   "source": [
    "print(y)"
   ]
  },
  {
   "cell_type": "code",
   "execution_count": 8,
   "metadata": {},
   "outputs": [],
   "source": [
    "from sklearn.neighbors import KNeighborsClassifier\n",
    "rf = KNeighborsClassifier(n_neighbors = 13)\n",
    "rf.fit(X_train, Y_train);"
   ]
  },
  {
   "cell_type": "code",
   "execution_count": 9,
   "metadata": {},
   "outputs": [
    {
     "name": "stdout",
     "output_type": "stream",
     "text": [
      "Accuracy of KNN classifier on training set: 0.79\n",
      "Accuracy of KNN classifier on testing set: 0.65\n"
     ]
    }
   ],
   "source": [
    "print('Accuracy of KNN classifier on training set: {:.2f}'.format(rf.score(X_train, Y_train)))\n",
    "print('Accuracy of KNN classifier on testing set: {:.2f}'.format(rf.score(X_test, Y_test)))\n"
   ]
  },
  {
   "cell_type": "code",
   "execution_count": 10,
   "metadata": {},
   "outputs": [],
   "source": [
    "def find_raaga(songname):    \n",
    "    x, sr = librosa.load(songname, mono=True, duration=30)\n",
    "    rmse = librosa.feature.rms(y=x)[0]\n",
    "    chroma_stft = librosa.feature.chroma_stft(y=x, sr=sr)\n",
    "    spec_cent = librosa.feature.spectral_centroid(y=x, sr=sr)\n",
    "    spec_bw = librosa.feature.spectral_bandwidth(y=x, sr=sr)\n",
    "    rolloff = librosa.feature.spectral_rolloff(y=x, sr=sr)\n",
    "    zcr = librosa.feature.zero_crossing_rate(x)\n",
    "    mfcc = librosa.feature.mfcc(y=x, sr=sr)\n",
    "\n",
    "    data=[0,np.mean(rmse),np.mean(chroma_stft),np.mean(spec_cent),np.mean(spec_bw),np.mean(rolloff),np.mean(zcr),np.mean(mfcc[0]),np.mean(mfcc[1]),np.mean(mfcc[2]),np.mean(mfcc[3]),np.mean(mfcc[4]),np.mean(mfcc[5]),np.mean(mfcc[6]),np.mean(mfcc[7]),np.mean(mfcc[8]),np.mean(mfcc[9]),np.mean(mfcc[10]),np.mean(mfcc[11]),np.mean(mfcc[12]),np.mean(mfcc[13]),np.mean(mfcc[14]),np.mean(mfcc[15]),np.mean(mfcc[16]),np.mean(mfcc[17]),np.mean(mfcc[18]),np.mean(mfcc[19])]\n",
    "    columns=['ind','rmse','chroma_stft','spec_cent','spec_bw','rolloff','zcr','mfcc0','mfcc1','mfcc2','mfcc3','mfcc4','mfcc5','mfcc6','mfcc7','mfcc8','mfcc9','mfcc10','mfcc11','mfcc12','mfcc13','mfcc14','mfcc15','mfcc16','mfcc17','mfcc18','mfcc19']\n",
    "    dataset=pd.DataFrame(columns=columns)\n",
    "    dataseries = pd.Series(data, index = dataset.columns)\n",
    "    dataset = dataset._append(dataseries, ignore_index=True)\n",
    "\n",
    "    example = scaler.transform(np.array(dataset.iloc[:, :], dtype = float))\n",
    "    preds = rf.predict(example)\n",
    "    best_preds = np.asarray([np.argmax(line) for line in preds])\n",
    "\n",
    "    raganame=set()\n",
    "    for i in range(len(raga_list)):\n",
    "        raganame.add((raga_list[i],y[i]))\n",
    "    raganame=list(raganame)\n",
    "    raganame.sort()\n",
    "    print(best_preds)\n",
    "    print(preds)\n",
    "\n",
    "    return preds[0]"
   ]
  },
  {
   "cell_type": "code",
   "execution_count": 11,
   "metadata": {},
   "outputs": [
    {
     "name": "stderr",
     "output_type": "stream",
     "text": [
      "/tmp/ipykernel_29786/1122689330.py:15: FutureWarning: The behavior of DataFrame concatenation with empty or all-NA entries is deprecated. In a future version, this will no longer exclude empty or all-NA columns when determining the result dtypes. To retain the old behavior, exclude the relevant entries before the concat operation.\n",
      "  dataset = dataset._append(dataseries, ignore_index=True)\n"
     ]
    },
    {
     "name": "stdout",
     "output_type": "stream",
     "text": [
      "[0]\n",
      "['abhogi']\n"
     ]
    },
    {
     "name": "stderr",
     "output_type": "stream",
     "text": [
      "/tmp/ipykernel_29786/1122689330.py:15: FutureWarning: The behavior of DataFrame concatenation with empty or all-NA entries is deprecated. In a future version, this will no longer exclude empty or all-NA columns when determining the result dtypes. To retain the old behavior, exclude the relevant entries before the concat operation.\n",
      "  dataset = dataset._append(dataseries, ignore_index=True)\n"
     ]
    },
    {
     "name": "stdout",
     "output_type": "stream",
     "text": [
      "[0]\n",
      "['abhogi']\n"
     ]
    },
    {
     "name": "stderr",
     "output_type": "stream",
     "text": [
      "/tmp/ipykernel_29786/1122689330.py:15: FutureWarning: The behavior of DataFrame concatenation with empty or all-NA entries is deprecated. In a future version, this will no longer exclude empty or all-NA columns when determining the result dtypes. To retain the old behavior, exclude the relevant entries before the concat operation.\n",
      "  dataset = dataset._append(dataseries, ignore_index=True)\n"
     ]
    },
    {
     "name": "stdout",
     "output_type": "stream",
     "text": [
      "[0]\n",
      "['bhairavi']\n"
     ]
    },
    {
     "name": "stderr",
     "output_type": "stream",
     "text": [
      "/tmp/ipykernel_29786/1122689330.py:15: FutureWarning: The behavior of DataFrame concatenation with empty or all-NA entries is deprecated. In a future version, this will no longer exclude empty or all-NA columns when determining the result dtypes. To retain the old behavior, exclude the relevant entries before the concat operation.\n",
      "  dataset = dataset._append(dataseries, ignore_index=True)\n"
     ]
    },
    {
     "name": "stdout",
     "output_type": "stream",
     "text": [
      "[0]\n",
      "['abhogi']\n"
     ]
    },
    {
     "name": "stderr",
     "output_type": "stream",
     "text": [
      "/tmp/ipykernel_29786/1122689330.py:15: FutureWarning: The behavior of DataFrame concatenation with empty or all-NA entries is deprecated. In a future version, this will no longer exclude empty or all-NA columns when determining the result dtypes. To retain the old behavior, exclude the relevant entries before the concat operation.\n",
      "  dataset = dataset._append(dataseries, ignore_index=True)\n"
     ]
    },
    {
     "name": "stdout",
     "output_type": "stream",
     "text": [
      "[0]\n",
      "['atana']\n"
     ]
    },
    {
     "name": "stderr",
     "output_type": "stream",
     "text": [
      "/tmp/ipykernel_29786/1122689330.py:15: FutureWarning: The behavior of DataFrame concatenation with empty or all-NA entries is deprecated. In a future version, this will no longer exclude empty or all-NA columns when determining the result dtypes. To retain the old behavior, exclude the relevant entries before the concat operation.\n",
      "  dataset = dataset._append(dataseries, ignore_index=True)\n"
     ]
    },
    {
     "name": "stdout",
     "output_type": "stream",
     "text": [
      "[0]\n",
      "['abhogi']\n"
     ]
    },
    {
     "name": "stderr",
     "output_type": "stream",
     "text": [
      "/tmp/ipykernel_29786/1122689330.py:15: FutureWarning: The behavior of DataFrame concatenation with empty or all-NA entries is deprecated. In a future version, this will no longer exclude empty or all-NA columns when determining the result dtypes. To retain the old behavior, exclude the relevant entries before the concat operation.\n",
      "  dataset = dataset._append(dataseries, ignore_index=True)\n"
     ]
    },
    {
     "name": "stdout",
     "output_type": "stream",
     "text": [
      "[0]\n",
      "['abhogi']\n"
     ]
    },
    {
     "name": "stderr",
     "output_type": "stream",
     "text": [
      "/tmp/ipykernel_29786/1122689330.py:15: FutureWarning: The behavior of DataFrame concatenation with empty or all-NA entries is deprecated. In a future version, this will no longer exclude empty or all-NA columns when determining the result dtypes. To retain the old behavior, exclude the relevant entries before the concat operation.\n",
      "  dataset = dataset._append(dataseries, ignore_index=True)\n"
     ]
    },
    {
     "name": "stdout",
     "output_type": "stream",
     "text": [
      "[0]\n",
      "['abhogi']\n"
     ]
    },
    {
     "name": "stderr",
     "output_type": "stream",
     "text": [
      "/tmp/ipykernel_29786/1122689330.py:15: FutureWarning: The behavior of DataFrame concatenation with empty or all-NA entries is deprecated. In a future version, this will no longer exclude empty or all-NA columns when determining the result dtypes. To retain the old behavior, exclude the relevant entries before the concat operation.\n",
      "  dataset = dataset._append(dataseries, ignore_index=True)\n"
     ]
    },
    {
     "name": "stdout",
     "output_type": "stream",
     "text": [
      "[0]\n",
      "['abhogi']\n"
     ]
    },
    {
     "name": "stderr",
     "output_type": "stream",
     "text": [
      "/tmp/ipykernel_29786/1122689330.py:15: FutureWarning: The behavior of DataFrame concatenation with empty or all-NA entries is deprecated. In a future version, this will no longer exclude empty or all-NA columns when determining the result dtypes. To retain the old behavior, exclude the relevant entries before the concat operation.\n",
      "  dataset = dataset._append(dataseries, ignore_index=True)\n"
     ]
    },
    {
     "name": "stdout",
     "output_type": "stream",
     "text": [
      "[0]\n",
      "['abhogi']\n"
     ]
    },
    {
     "name": "stderr",
     "output_type": "stream",
     "text": [
      "/tmp/ipykernel_29786/1122689330.py:15: FutureWarning: The behavior of DataFrame concatenation with empty or all-NA entries is deprecated. In a future version, this will no longer exclude empty or all-NA columns when determining the result dtypes. To retain the old behavior, exclude the relevant entries before the concat operation.\n",
      "  dataset = dataset._append(dataseries, ignore_index=True)\n"
     ]
    },
    {
     "name": "stdout",
     "output_type": "stream",
     "text": [
      "[0]\n",
      "['abhogi']\n"
     ]
    },
    {
     "name": "stderr",
     "output_type": "stream",
     "text": [
      "/tmp/ipykernel_29786/1122689330.py:15: FutureWarning: The behavior of DataFrame concatenation with empty or all-NA entries is deprecated. In a future version, this will no longer exclude empty or all-NA columns when determining the result dtypes. To retain the old behavior, exclude the relevant entries before the concat operation.\n",
      "  dataset = dataset._append(dataseries, ignore_index=True)\n"
     ]
    },
    {
     "name": "stdout",
     "output_type": "stream",
     "text": [
      "[0]\n",
      "['abhogi']\n"
     ]
    },
    {
     "name": "stderr",
     "output_type": "stream",
     "text": [
      "/tmp/ipykernel_29786/1122689330.py:15: FutureWarning: The behavior of DataFrame concatenation with empty or all-NA entries is deprecated. In a future version, this will no longer exclude empty or all-NA columns when determining the result dtypes. To retain the old behavior, exclude the relevant entries before the concat operation.\n",
      "  dataset = dataset._append(dataseries, ignore_index=True)\n"
     ]
    },
    {
     "name": "stdout",
     "output_type": "stream",
     "text": [
      "[0]\n",
      "['bhairavi']\n"
     ]
    },
    {
     "name": "stderr",
     "output_type": "stream",
     "text": [
      "/tmp/ipykernel_29786/1122689330.py:15: FutureWarning: The behavior of DataFrame concatenation with empty or all-NA entries is deprecated. In a future version, this will no longer exclude empty or all-NA columns when determining the result dtypes. To retain the old behavior, exclude the relevant entries before the concat operation.\n",
      "  dataset = dataset._append(dataseries, ignore_index=True)\n"
     ]
    },
    {
     "name": "stdout",
     "output_type": "stream",
     "text": [
      "[0]\n",
      "['abhogi']\n"
     ]
    },
    {
     "name": "stderr",
     "output_type": "stream",
     "text": [
      "/tmp/ipykernel_29786/1122689330.py:15: FutureWarning: The behavior of DataFrame concatenation with empty or all-NA entries is deprecated. In a future version, this will no longer exclude empty or all-NA columns when determining the result dtypes. To retain the old behavior, exclude the relevant entries before the concat operation.\n",
      "  dataset = dataset._append(dataseries, ignore_index=True)\n"
     ]
    },
    {
     "name": "stdout",
     "output_type": "stream",
     "text": [
      "[0]\n",
      "['abhogi']\n"
     ]
    },
    {
     "name": "stderr",
     "output_type": "stream",
     "text": [
      "/tmp/ipykernel_29786/1122689330.py:15: FutureWarning: The behavior of DataFrame concatenation with empty or all-NA entries is deprecated. In a future version, this will no longer exclude empty or all-NA columns when determining the result dtypes. To retain the old behavior, exclude the relevant entries before the concat operation.\n",
      "  dataset = dataset._append(dataseries, ignore_index=True)\n"
     ]
    },
    {
     "name": "stdout",
     "output_type": "stream",
     "text": [
      "[0]\n",
      "['abhogi']\n"
     ]
    },
    {
     "name": "stderr",
     "output_type": "stream",
     "text": [
      "/tmp/ipykernel_29786/1122689330.py:15: FutureWarning: The behavior of DataFrame concatenation with empty or all-NA entries is deprecated. In a future version, this will no longer exclude empty or all-NA columns when determining the result dtypes. To retain the old behavior, exclude the relevant entries before the concat operation.\n",
      "  dataset = dataset._append(dataseries, ignore_index=True)\n"
     ]
    },
    {
     "name": "stdout",
     "output_type": "stream",
     "text": [
      "[0]\n",
      "['bhairavi']\n"
     ]
    },
    {
     "name": "stderr",
     "output_type": "stream",
     "text": [
      "/tmp/ipykernel_29786/1122689330.py:15: FutureWarning: The behavior of DataFrame concatenation with empty or all-NA entries is deprecated. In a future version, this will no longer exclude empty or all-NA columns when determining the result dtypes. To retain the old behavior, exclude the relevant entries before the concat operation.\n",
      "  dataset = dataset._append(dataseries, ignore_index=True)\n"
     ]
    },
    {
     "name": "stdout",
     "output_type": "stream",
     "text": [
      "[0]\n",
      "['bhairavi']\n"
     ]
    },
    {
     "name": "stderr",
     "output_type": "stream",
     "text": [
      "/tmp/ipykernel_29786/1122689330.py:15: FutureWarning: The behavior of DataFrame concatenation with empty or all-NA entries is deprecated. In a future version, this will no longer exclude empty or all-NA columns when determining the result dtypes. To retain the old behavior, exclude the relevant entries before the concat operation.\n",
      "  dataset = dataset._append(dataseries, ignore_index=True)\n"
     ]
    },
    {
     "name": "stdout",
     "output_type": "stream",
     "text": [
      "[0]\n",
      "['abhogi']\n"
     ]
    },
    {
     "name": "stderr",
     "output_type": "stream",
     "text": [
      "/tmp/ipykernel_29786/1122689330.py:15: FutureWarning: The behavior of DataFrame concatenation with empty or all-NA entries is deprecated. In a future version, this will no longer exclude empty or all-NA columns when determining the result dtypes. To retain the old behavior, exclude the relevant entries before the concat operation.\n",
      "  dataset = dataset._append(dataseries, ignore_index=True)\n"
     ]
    },
    {
     "name": "stdout",
     "output_type": "stream",
     "text": [
      "[0]\n",
      "['bhairavi']\n"
     ]
    },
    {
     "name": "stderr",
     "output_type": "stream",
     "text": [
      "/tmp/ipykernel_29786/1122689330.py:15: FutureWarning: The behavior of DataFrame concatenation with empty or all-NA entries is deprecated. In a future version, this will no longer exclude empty or all-NA columns when determining the result dtypes. To retain the old behavior, exclude the relevant entries before the concat operation.\n",
      "  dataset = dataset._append(dataseries, ignore_index=True)\n"
     ]
    },
    {
     "name": "stdout",
     "output_type": "stream",
     "text": [
      "[0]\n",
      "['abhogi']\n"
     ]
    },
    {
     "name": "stderr",
     "output_type": "stream",
     "text": [
      "/tmp/ipykernel_29786/1122689330.py:15: FutureWarning: The behavior of DataFrame concatenation with empty or all-NA entries is deprecated. In a future version, this will no longer exclude empty or all-NA columns when determining the result dtypes. To retain the old behavior, exclude the relevant entries before the concat operation.\n",
      "  dataset = dataset._append(dataseries, ignore_index=True)\n"
     ]
    },
    {
     "name": "stdout",
     "output_type": "stream",
     "text": [
      "[0]\n",
      "['begada']\n"
     ]
    },
    {
     "name": "stderr",
     "output_type": "stream",
     "text": [
      "/tmp/ipykernel_29786/1122689330.py:15: FutureWarning: The behavior of DataFrame concatenation with empty or all-NA entries is deprecated. In a future version, this will no longer exclude empty or all-NA columns when determining the result dtypes. To retain the old behavior, exclude the relevant entries before the concat operation.\n",
      "  dataset = dataset._append(dataseries, ignore_index=True)\n"
     ]
    },
    {
     "name": "stdout",
     "output_type": "stream",
     "text": [
      "[0]\n",
      "['abhogi']\n"
     ]
    },
    {
     "name": "stderr",
     "output_type": "stream",
     "text": [
      "/tmp/ipykernel_29786/1122689330.py:15: FutureWarning: The behavior of DataFrame concatenation with empty or all-NA entries is deprecated. In a future version, this will no longer exclude empty or all-NA columns when determining the result dtypes. To retain the old behavior, exclude the relevant entries before the concat operation.\n",
      "  dataset = dataset._append(dataseries, ignore_index=True)\n"
     ]
    },
    {
     "name": "stdout",
     "output_type": "stream",
     "text": [
      "[0]\n",
      "['abhogi']\n"
     ]
    },
    {
     "name": "stderr",
     "output_type": "stream",
     "text": [
      "/tmp/ipykernel_29786/1122689330.py:15: FutureWarning: The behavior of DataFrame concatenation with empty or all-NA entries is deprecated. In a future version, this will no longer exclude empty or all-NA columns when determining the result dtypes. To retain the old behavior, exclude the relevant entries before the concat operation.\n",
      "  dataset = dataset._append(dataseries, ignore_index=True)\n"
     ]
    },
    {
     "name": "stdout",
     "output_type": "stream",
     "text": [
      "[0]\n",
      "['abhogi']\n"
     ]
    },
    {
     "name": "stderr",
     "output_type": "stream",
     "text": [
      "/tmp/ipykernel_29786/1122689330.py:15: FutureWarning: The behavior of DataFrame concatenation with empty or all-NA entries is deprecated. In a future version, this will no longer exclude empty or all-NA columns when determining the result dtypes. To retain the old behavior, exclude the relevant entries before the concat operation.\n",
      "  dataset = dataset._append(dataseries, ignore_index=True)\n"
     ]
    },
    {
     "name": "stdout",
     "output_type": "stream",
     "text": [
      "[0]\n",
      "['abhogi']\n"
     ]
    },
    {
     "name": "stderr",
     "output_type": "stream",
     "text": [
      "/tmp/ipykernel_29786/1122689330.py:15: FutureWarning: The behavior of DataFrame concatenation with empty or all-NA entries is deprecated. In a future version, this will no longer exclude empty or all-NA columns when determining the result dtypes. To retain the old behavior, exclude the relevant entries before the concat operation.\n",
      "  dataset = dataset._append(dataseries, ignore_index=True)\n"
     ]
    },
    {
     "name": "stdout",
     "output_type": "stream",
     "text": [
      "[0]\n",
      "['abhogi']\n"
     ]
    },
    {
     "name": "stderr",
     "output_type": "stream",
     "text": [
      "/tmp/ipykernel_29786/1122689330.py:15: FutureWarning: The behavior of DataFrame concatenation with empty or all-NA entries is deprecated. In a future version, this will no longer exclude empty or all-NA columns when determining the result dtypes. To retain the old behavior, exclude the relevant entries before the concat operation.\n",
      "  dataset = dataset._append(dataseries, ignore_index=True)\n"
     ]
    },
    {
     "name": "stdout",
     "output_type": "stream",
     "text": [
      "[0]\n",
      "['bhairavi']\n"
     ]
    },
    {
     "name": "stderr",
     "output_type": "stream",
     "text": [
      "/tmp/ipykernel_29786/1122689330.py:15: FutureWarning: The behavior of DataFrame concatenation with empty or all-NA entries is deprecated. In a future version, this will no longer exclude empty or all-NA columns when determining the result dtypes. To retain the old behavior, exclude the relevant entries before the concat operation.\n",
      "  dataset = dataset._append(dataseries, ignore_index=True)\n"
     ]
    },
    {
     "name": "stdout",
     "output_type": "stream",
     "text": [
      "[0]\n",
      "['abhogi']\n"
     ]
    },
    {
     "name": "stderr",
     "output_type": "stream",
     "text": [
      "/tmp/ipykernel_29786/1122689330.py:15: FutureWarning: The behavior of DataFrame concatenation with empty or all-NA entries is deprecated. In a future version, this will no longer exclude empty or all-NA columns when determining the result dtypes. To retain the old behavior, exclude the relevant entries before the concat operation.\n",
      "  dataset = dataset._append(dataseries, ignore_index=True)\n"
     ]
    },
    {
     "name": "stdout",
     "output_type": "stream",
     "text": [
      "[0]\n",
      "['abhogi']\n"
     ]
    },
    {
     "name": "stderr",
     "output_type": "stream",
     "text": [
      "/tmp/ipykernel_29786/1122689330.py:15: FutureWarning: The behavior of DataFrame concatenation with empty or all-NA entries is deprecated. In a future version, this will no longer exclude empty or all-NA columns when determining the result dtypes. To retain the old behavior, exclude the relevant entries before the concat operation.\n",
      "  dataset = dataset._append(dataseries, ignore_index=True)\n"
     ]
    },
    {
     "name": "stdout",
     "output_type": "stream",
     "text": [
      "[0]\n",
      "['abhogi']\n"
     ]
    },
    {
     "name": "stderr",
     "output_type": "stream",
     "text": [
      "/tmp/ipykernel_29786/1122689330.py:15: FutureWarning: The behavior of DataFrame concatenation with empty or all-NA entries is deprecated. In a future version, this will no longer exclude empty or all-NA columns when determining the result dtypes. To retain the old behavior, exclude the relevant entries before the concat operation.\n",
      "  dataset = dataset._append(dataseries, ignore_index=True)\n"
     ]
    },
    {
     "name": "stdout",
     "output_type": "stream",
     "text": [
      "[0]\n",
      "['abhogi']\n"
     ]
    },
    {
     "name": "stderr",
     "output_type": "stream",
     "text": [
      "/tmp/ipykernel_29786/1122689330.py:15: FutureWarning: The behavior of DataFrame concatenation with empty or all-NA entries is deprecated. In a future version, this will no longer exclude empty or all-NA columns when determining the result dtypes. To retain the old behavior, exclude the relevant entries before the concat operation.\n",
      "  dataset = dataset._append(dataseries, ignore_index=True)\n"
     ]
    },
    {
     "name": "stdout",
     "output_type": "stream",
     "text": [
      "[0]\n",
      "['abhogi']\n"
     ]
    },
    {
     "name": "stderr",
     "output_type": "stream",
     "text": [
      "/tmp/ipykernel_29786/1122689330.py:15: FutureWarning: The behavior of DataFrame concatenation with empty or all-NA entries is deprecated. In a future version, this will no longer exclude empty or all-NA columns when determining the result dtypes. To retain the old behavior, exclude the relevant entries before the concat operation.\n",
      "  dataset = dataset._append(dataseries, ignore_index=True)\n"
     ]
    },
    {
     "name": "stdout",
     "output_type": "stream",
     "text": [
      "[0]\n",
      "['abhogi']\n"
     ]
    },
    {
     "name": "stderr",
     "output_type": "stream",
     "text": [
      "/tmp/ipykernel_29786/1122689330.py:15: FutureWarning: The behavior of DataFrame concatenation with empty or all-NA entries is deprecated. In a future version, this will no longer exclude empty or all-NA columns when determining the result dtypes. To retain the old behavior, exclude the relevant entries before the concat operation.\n",
      "  dataset = dataset._append(dataseries, ignore_index=True)\n"
     ]
    },
    {
     "name": "stdout",
     "output_type": "stream",
     "text": [
      "[0]\n",
      "['abhogi']\n"
     ]
    },
    {
     "name": "stderr",
     "output_type": "stream",
     "text": [
      "/tmp/ipykernel_29786/1122689330.py:15: FutureWarning: The behavior of DataFrame concatenation with empty or all-NA entries is deprecated. In a future version, this will no longer exclude empty or all-NA columns when determining the result dtypes. To retain the old behavior, exclude the relevant entries before the concat operation.\n",
      "  dataset = dataset._append(dataseries, ignore_index=True)\n"
     ]
    },
    {
     "name": "stdout",
     "output_type": "stream",
     "text": [
      "[0]\n",
      "['abhogi']\n"
     ]
    },
    {
     "name": "stderr",
     "output_type": "stream",
     "text": [
      "/tmp/ipykernel_29786/1122689330.py:15: FutureWarning: The behavior of DataFrame concatenation with empty or all-NA entries is deprecated. In a future version, this will no longer exclude empty or all-NA columns when determining the result dtypes. To retain the old behavior, exclude the relevant entries before the concat operation.\n",
      "  dataset = dataset._append(dataseries, ignore_index=True)\n"
     ]
    },
    {
     "name": "stdout",
     "output_type": "stream",
     "text": [
      "[0]\n",
      "['bhairavi']\n"
     ]
    },
    {
     "name": "stderr",
     "output_type": "stream",
     "text": [
      "/tmp/ipykernel_29786/1122689330.py:15: FutureWarning: The behavior of DataFrame concatenation with empty or all-NA entries is deprecated. In a future version, this will no longer exclude empty or all-NA columns when determining the result dtypes. To retain the old behavior, exclude the relevant entries before the concat operation.\n",
      "  dataset = dataset._append(dataseries, ignore_index=True)\n"
     ]
    },
    {
     "name": "stdout",
     "output_type": "stream",
     "text": [
      "[0]\n",
      "['bhairavi']\n",
      "[0]\n",
      "['abhogi']\n"
     ]
    },
    {
     "name": "stderr",
     "output_type": "stream",
     "text": [
      "/tmp/ipykernel_29786/1122689330.py:15: FutureWarning: The behavior of DataFrame concatenation with empty or all-NA entries is deprecated. In a future version, this will no longer exclude empty or all-NA columns when determining the result dtypes. To retain the old behavior, exclude the relevant entries before the concat operation.\n",
      "  dataset = dataset._append(dataseries, ignore_index=True)\n"
     ]
    }
   ],
   "source": [
    "file_paths = np.asanyarray(fp['filepath'])\n",
    "\n",
    "predicted_raaga = []\n",
    "\n",
    "for a in file_paths:\n",
    "    songname = \"carnatic/\"+a+\".mp3.mp3\"\n",
    "    p_raga = find_raaga(songname)\n",
    "    predicted_raaga.append(p_raga)"
   ]
  },
  {
   "cell_type": "code",
   "execution_count": 12,
   "metadata": {},
   "outputs": [
    {
     "name": "stdout",
     "output_type": "stream",
     "text": [
      "['abhogi', 'abhogi', 'bhairavi', 'abhogi', 'atana', 'abhogi', 'abhogi', 'abhogi', 'abhogi', 'abhogi', 'abhogi', 'abhogi', 'bhairavi', 'abhogi', 'abhogi', 'abhogi', 'bhairavi', 'bhairavi', 'abhogi', 'bhairavi', 'abhogi', 'begada', 'abhogi', 'abhogi', 'abhogi', 'abhogi', 'abhogi', 'bhairavi', 'abhogi', 'abhogi', 'abhogi', 'abhogi', 'abhogi', 'abhogi', 'abhogi', 'abhogi', 'bhairavi', 'bhairavi', 'abhogi']\n"
     ]
    }
   ],
   "source": [
    "print(predicted_raaga)"
   ]
  },
  {
   "cell_type": "code",
   "execution_count": 13,
   "metadata": {},
   "outputs": [
    {
     "name": "stderr",
     "output_type": "stream",
     "text": [
      "/tmp/ipykernel_29786/1020802142.py:1: SettingWithCopyWarning: \n",
      "A value is trying to be set on a copy of a slice from a DataFrame.\n",
      "Try using .loc[row_indexer,col_indexer] = value instead\n",
      "\n",
      "See the caveats in the documentation: https://pandas.pydata.org/pandas-docs/stable/user_guide/indexing.html#returning-a-view-versus-a-copy\n",
      "  fp['pred_raagas'] = predicted_raaga\n"
     ]
    }
   ],
   "source": [
    "fp['pred_raagas'] = predicted_raaga\n",
    "fp.to_csv('file_path_raaga.csv')\n",
    "\n",
    "df = pd.read_csv('file_path_raaga.csv')"
   ]
  },
  {
   "cell_type": "code",
   "execution_count": 14,
   "metadata": {},
   "outputs": [
    {
     "name": "stdout",
     "output_type": "stream",
     "text": [
      "                 precision    recall  f1-score   support\n",
      "\n",
      "   Purvikalyani       0.00      0.00      0.00         1\n",
      "         abhogi       0.03      0.50      0.06         2\n",
      "ananda bhairavi       0.00      0.00      0.00         1\n",
      "          atana       0.00      0.00      0.00         0\n",
      "         begada       0.00      0.00      0.00         3\n",
      "          behag       0.00      0.00      0.00         5\n",
      "       bhairavi       0.00      0.00      0.00         5\n",
      "    hamsadhvani       0.00      0.00      0.00         1\n",
      "       hindolam       0.00      0.00      0.00         1\n",
      "    jaganmohini       0.00      0.00      0.00         2\n",
      "       jaunpuri       0.00      0.00      0.00         3\n",
      "     ragamalika       0.00      0.00      0.00         8\n",
      " shanmukhapriya       0.00      0.00      0.00         4\n",
      "         varali       0.00      0.00      0.00         1\n",
      "        vasanta       0.00      0.00      0.00         1\n",
      " yamuna kalyani       0.00      0.00      0.00         1\n",
      "\n",
      "       accuracy                           0.03        39\n",
      "      macro avg       0.00      0.03      0.00        39\n",
      "   weighted avg       0.00      0.03      0.00        39\n",
      "\n"
     ]
    },
    {
     "name": "stderr",
     "output_type": "stream",
     "text": [
      "/home/sypher/.local/lib/python3.10/site-packages/sklearn/metrics/_classification.py:1497: UndefinedMetricWarning: Precision is ill-defined and being set to 0.0 in labels with no predicted samples. Use `zero_division` parameter to control this behavior.\n",
      "  _warn_prf(average, modifier, f\"{metric.capitalize()} is\", len(result))\n",
      "/home/sypher/.local/lib/python3.10/site-packages/sklearn/metrics/_classification.py:1497: UndefinedMetricWarning: Recall is ill-defined and being set to 0.0 in labels with no true samples. Use `zero_division` parameter to control this behavior.\n",
      "  _warn_prf(average, modifier, f\"{metric.capitalize()} is\", len(result))\n",
      "/home/sypher/.local/lib/python3.10/site-packages/sklearn/metrics/_classification.py:1497: UndefinedMetricWarning: Precision is ill-defined and being set to 0.0 in labels with no predicted samples. Use `zero_division` parameter to control this behavior.\n",
      "  _warn_prf(average, modifier, f\"{metric.capitalize()} is\", len(result))\n",
      "/home/sypher/.local/lib/python3.10/site-packages/sklearn/metrics/_classification.py:1497: UndefinedMetricWarning: Recall is ill-defined and being set to 0.0 in labels with no true samples. Use `zero_division` parameter to control this behavior.\n",
      "  _warn_prf(average, modifier, f\"{metric.capitalize()} is\", len(result))\n",
      "/home/sypher/.local/lib/python3.10/site-packages/sklearn/metrics/_classification.py:1497: UndefinedMetricWarning: Precision is ill-defined and being set to 0.0 in labels with no predicted samples. Use `zero_division` parameter to control this behavior.\n",
      "  _warn_prf(average, modifier, f\"{metric.capitalize()} is\", len(result))\n",
      "/home/sypher/.local/lib/python3.10/site-packages/sklearn/metrics/_classification.py:1497: UndefinedMetricWarning: Recall is ill-defined and being set to 0.0 in labels with no true samples. Use `zero_division` parameter to control this behavior.\n",
      "  _warn_prf(average, modifier, f\"{metric.capitalize()} is\", len(result))\n"
     ]
    }
   ],
   "source": [
    "from sklearn.metrics import classification_report\n",
    "\n",
    "\n",
    "print(classification_report(df['raagas'], df['pred_raagas']))"
   ]
  }
 ],
 "metadata": {
  "kernelspec": {
   "display_name": "Python 3",
   "language": "python",
   "name": "python3"
  },
  "language_info": {
   "codemirror_mode": {
    "name": "ipython",
    "version": 3
   },
   "file_extension": ".py",
   "mimetype": "text/x-python",
   "name": "python",
   "nbconvert_exporter": "python",
   "pygments_lexer": "ipython3",
   "version": "3.10.12"
  }
 },
 "nbformat": 4,
 "nbformat_minor": 2
}
