{
 "cells": [
  {
   "cell_type": "code",
   "execution_count": 1,
   "metadata": {},
   "outputs": [
    {
     "name": "stdout",
     "output_type": "stream",
     "text": [
      "['Ga3', 'Rest', 'Rest', 'Sa3', 'Ni2', 'Rest', 'Rest', 'Ma3', 'Ma3', 'Ni3', 'Dha3', 'Pa3', 'Dha3', 'Pa3', 'Rest', 'Re3', 'Re3', 'Rest', 'Ni2', 'Re3', 'Re3', 'Re1', 'Rest', 'Dha3', 'Rest', 'Rest', 'Ni3', 'Rest', 'Ma3', 'Rest', 'Rest', 'Rest', 'Rest', 'Rest', 'Rest', 'Rest', 'Rest', 'Sa3', 'Rest', 'Rest', 'Sa3', 'Ni2', 'Rest', 'Ni2']\n"
     ]
    }
   ],
   "source": [
    "# Define mapping from Western note names to Indian classical note names\n",
    "note_mapping = {\n",
    "    'C': 'Sa',\n",
    "    'C#': 'Re',\n",
    "    'D': 'Re',\n",
    "    'D#': 'Ga',\n",
    "    'E': 'Ga',\n",
    "    'F': 'Ma',\n",
    "    'F#': 'Ma',\n",
    "    'G': 'Pa',\n",
    "    'G#': 'Pa',\n",
    "    'A': 'Dha',\n",
    "    'A#': 'Dha',\n",
    "    'B': 'Ni'\n",
    "}\n",
    "\n",
    "def convert_to_saregama(note):\n",
    "    if note == 'Rest':\n",
    "        return 'Rest'\n",
    "    # Extract note name and octave from the Western note\n",
    "    note_name = note[:-1]\n",
    "    octave = note[-1] if note[-1].isdigit() else '3'  # Default octave is 3 if not provided\n",
    "    # Convert note name to Indian classical notation\n",
    "    saregama_note = note_mapping.get(note_name)\n",
    "    if saregama_note is None:\n",
    "        raise ValueError(f\"Note '{note_name}' not found in note_mapping\")\n",
    "    # Convert octave number to Indian classical notation\n",
    "    saregama_octave = (int(octave) - 1) % 3 + 1  # Convert octave to 1, 2, or 3\n",
    "    # Return the Indian classical note representation\n",
    "    return f\"{saregama_note}{saregama_octave}\"\n",
    "\n",
    "\n",
    "# Given list of Western notes\n",
    "western_notes = ['D#3', 'Rest', 'Rest', 'C3', 'B2', 'Rest', 'Rest', 'F#3', 'F#3', 'B3', 'A#3', 'G#3', 'A3', 'G3', 'Rest', 'D3', 'C#3', 'Rest', 'B2', 'C#3', 'C#3', 'D4', 'Rest', 'A3', 'Rest', 'Rest', 'B3', 'Rest', 'F#3', 'Rest', 'Rest', 'Rest', 'Rest', 'Rest', 'Rest', 'Rest', 'Rest', 'C3', 'Rest', 'Rest', 'C3', 'B2', 'Rest', 'B2']\n",
    "\n",
    "# Convert each Western note to Indian classical notation\n",
    "saregama_notes = [convert_to_saregama(note) for note in western_notes]\n",
    "\n",
    "# Display the converted notes\n",
    "print(saregama_notes)\n"
   ]
  }
 ],
 "metadata": {
  "kernelspec": {
   "display_name": "Python 3",
   "language": "python",
   "name": "python3"
  },
  "language_info": {
   "codemirror_mode": {
    "name": "ipython",
    "version": 3
   },
   "file_extension": ".py",
   "mimetype": "text/x-python",
   "name": "python",
   "nbconvert_exporter": "python",
   "pygments_lexer": "ipython3",
   "version": "3.10.12"
  }
 },
 "nbformat": 4,
 "nbformat_minor": 2
}
