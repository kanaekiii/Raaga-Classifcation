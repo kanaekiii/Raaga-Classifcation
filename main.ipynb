{
 "cells": [
  {
   "cell_type": "code",
   "execution_count": 4,
   "metadata": {},
   "outputs": [
    {
     "data": {
      "text/html": [
       "<div>\n",
       "<style scoped>\n",
       "    .dataframe tbody tr th:only-of-type {\n",
       "        vertical-align: middle;\n",
       "    }\n",
       "\n",
       "    .dataframe tbody tr th {\n",
       "        vertical-align: top;\n",
       "    }\n",
       "\n",
       "    .dataframe thead th {\n",
       "        text-align: right;\n",
       "    }\n",
       "</style>\n",
       "<table border=\"1\" class=\"dataframe\">\n",
       "  <thead>\n",
       "    <tr style=\"text-align: right;\">\n",
       "      <th></th>\n",
       "      <th>filepath</th>\n",
       "      <th>mbid</th>\n",
       "    </tr>\n",
       "  </thead>\n",
       "  <tbody>\n",
       "    <tr>\n",
       "      <th>0</th>\n",
       "      <td>Sumitra Nitin at Arkay by Sumitra Nitin/Doraku...</td>\n",
       "      <td>6d4e58d1-e565-4987-b7a5-c63a4e9d3f90</td>\n",
       "    </tr>\n",
       "    <tr>\n",
       "      <th>1</th>\n",
       "      <td>Sumitra Nitin at Arkay by Sumitra Nitin/Ganamu...</td>\n",
       "      <td>d99f623e-8004-4e1a-a31c-5f760a018498</td>\n",
       "    </tr>\n",
       "    <tr>\n",
       "      <th>2</th>\n",
       "      <td>Sumitra Nitin at Arkay by Sumitra Nitin/Chidam...</td>\n",
       "      <td>eaf6b71a-8baf-4df2-bf70-0586428c7faa</td>\n",
       "    </tr>\n",
       "    <tr>\n",
       "      <th>3</th>\n",
       "      <td>Sumitra Nitin at Arkay by Sumitra Nitin/Vandal...</td>\n",
       "      <td>e3fe24f3-292a-4a96-97fd-bfd1f681394c</td>\n",
       "    </tr>\n",
       "    <tr>\n",
       "      <th>4</th>\n",
       "      <td>Sumitra Nitin at Arkay by Sumitra Nitin/Thiruv...</td>\n",
       "      <td>7cbd62c6-2304-459a-8d7a-98647abac6d2</td>\n",
       "    </tr>\n",
       "    <tr>\n",
       "      <th>...</th>\n",
       "      <td>...</td>\n",
       "      <td>...</td>\n",
       "    </tr>\n",
       "    <tr>\n",
       "      <th>244</th>\n",
       "      <td>Chaitra Sairam at Arkay by Chaitra Sairam/Gova...</td>\n",
       "      <td>93f38e28-f411-4b06-9494-91232649a635</td>\n",
       "    </tr>\n",
       "    <tr>\n",
       "      <th>245</th>\n",
       "      <td>Chaitra Sairam at Arkay by Chaitra Sairam/Ardh...</td>\n",
       "      <td>9ab5de50-9a19-46cc-93d7-867f0ebb0da4</td>\n",
       "    </tr>\n",
       "    <tr>\n",
       "      <th>246</th>\n",
       "      <td>Chaitra Sairam at Arkay by Chaitra Sairam/Anan...</td>\n",
       "      <td>833331e9-7907-4e28-b60d-8c8186931dfd</td>\n",
       "    </tr>\n",
       "    <tr>\n",
       "      <th>247</th>\n",
       "      <td>Chaitra Sairam at Arkay by Chaitra Sairam/Rakt...</td>\n",
       "      <td>0a1c2ae7-e933-458d-afac-fa081338d5de</td>\n",
       "    </tr>\n",
       "    <tr>\n",
       "      <th>248</th>\n",
       "      <td>Chaitra Sairam at Arkay by Chaitra Sairam/Gang...</td>\n",
       "      <td>b584e95d-ec72-4467-abb5-bd18e7a55ae7</td>\n",
       "    </tr>\n",
       "  </tbody>\n",
       "</table>\n",
       "<p>249 rows × 2 columns</p>\n",
       "</div>"
      ],
      "text/plain": [
       "                                              filepath  \\\n",
       "0    Sumitra Nitin at Arkay by Sumitra Nitin/Doraku...   \n",
       "1    Sumitra Nitin at Arkay by Sumitra Nitin/Ganamu...   \n",
       "2    Sumitra Nitin at Arkay by Sumitra Nitin/Chidam...   \n",
       "3    Sumitra Nitin at Arkay by Sumitra Nitin/Vandal...   \n",
       "4    Sumitra Nitin at Arkay by Sumitra Nitin/Thiruv...   \n",
       "..                                                 ...   \n",
       "244  Chaitra Sairam at Arkay by Chaitra Sairam/Gova...   \n",
       "245  Chaitra Sairam at Arkay by Chaitra Sairam/Ardh...   \n",
       "246  Chaitra Sairam at Arkay by Chaitra Sairam/Anan...   \n",
       "247  Chaitra Sairam at Arkay by Chaitra Sairam/Rakt...   \n",
       "248  Chaitra Sairam at Arkay by Chaitra Sairam/Gang...   \n",
       "\n",
       "                                     mbid  \n",
       "0    6d4e58d1-e565-4987-b7a5-c63a4e9d3f90  \n",
       "1    d99f623e-8004-4e1a-a31c-5f760a018498  \n",
       "2    eaf6b71a-8baf-4df2-bf70-0586428c7faa  \n",
       "3    e3fe24f3-292a-4a96-97fd-bfd1f681394c  \n",
       "4    7cbd62c6-2304-459a-8d7a-98647abac6d2  \n",
       "..                                    ...  \n",
       "244  93f38e28-f411-4b06-9494-91232649a635  \n",
       "245  9ab5de50-9a19-46cc-93d7-867f0ebb0da4  \n",
       "246  833331e9-7907-4e28-b60d-8c8186931dfd  \n",
       "247  0a1c2ae7-e933-458d-afac-fa081338d5de  \n",
       "248  b584e95d-ec72-4467-abb5-bd18e7a55ae7  \n",
       "\n",
       "[249 rows x 2 columns]"
      ]
     },
     "execution_count": 4,
     "metadata": {},
     "output_type": "execute_result"
    }
   ],
   "source": [
    "import pandas as pd\n",
    "\n",
    "fp = pd.read_csv(\"carnatic/file_paths.csv\")\n",
    "fp"
   ]
  },
  {
   "cell_type": "code",
   "execution_count": 5,
   "metadata": {},
   "outputs": [],
   "source": [
    "import numpy as np\n",
    "\n",
    "\n",
    "file_path = np.asanyarray(fp.filepath)"
   ]
  },
  {
   "cell_type": "code",
   "execution_count": 6,
   "metadata": {},
   "outputs": [],
   "source": [
    "import json\n",
    "\n",
    "raagas = []\n",
    "\n",
    "for a in file_path:\n",
    "    with open(\"carnatic/\"+a+\".json\", 'r') as file:\n",
    "        data = json.load(file)\n",
    "        raaga = list(data['raaga'])\n",
    "        if(len(raaga[0:1])):\n",
    "            for i in raaga[0:1]:\n",
    "                raagas.append(i['common_name'])\n",
    "        else:\n",
    "            raagas.append(np.NaN)\n",
    "\n",
    "fp['raagas'] = raagas\n",
    "fp.to_csv('file_path_raaga.csv')\n"
   ]
  },
  {
   "cell_type": "code",
   "execution_count": 7,
   "metadata": {},
   "outputs": [
    {
     "data": {
      "text/plain": [
       "filepath     0\n",
       "mbid         0\n",
       "raagas      65\n",
       "dtype: int64"
      ]
     },
     "execution_count": 7,
     "metadata": {},
     "output_type": "execute_result"
    }
   ],
   "source": [
    "fp.isnull().sum()\n",
    "``"
   ]
  },
  {
   "cell_type": "code",
   "execution_count": 8,
   "metadata": {},
   "outputs": [],
   "source": [
    "fp=fp.dropna()"
   ]
  },
  {
   "cell_type": "code",
   "execution_count": 9,
   "metadata": {},
   "outputs": [
    {
     "data": {
      "text/plain": [
       "filepath    0\n",
       "mbid        0\n",
       "raagas      0\n",
       "dtype: int64"
      ]
     },
     "execution_count": 9,
     "metadata": {},
     "output_type": "execute_result"
    }
   ],
   "source": [
    "fp.isnull().sum()"
   ]
  },
  {
   "cell_type": "code",
   "execution_count": 10,
   "metadata": {},
   "outputs": [],
   "source": [
    "fp.to_csv('file_path_raaga.csv')\n"
   ]
  },
  {
   "cell_type": "code",
   "execution_count": null,
   "metadata": {},
   "outputs": [],
   "source": []
  }
 ],
 "metadata": {
  "kernelspec": {
   "display_name": "Python 3",
   "language": "python",
   "name": "python3"
  },
  "language_info": {
   "codemirror_mode": {
    "name": "ipython",
    "version": 3
   },
   "file_extension": ".py",
   "mimetype": "text/x-python",
   "name": "python",
   "nbconvert_exporter": "python",
   "pygments_lexer": "ipython3",
   "version": "3.10.12"
  }
 },
 "nbformat": 4,
 "nbformat_minor": 2
}
